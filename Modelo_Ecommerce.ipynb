{
  "cells": [
    {
      "cell_type": "markdown",
      "metadata": {
        "id": "view-in-github",
        "colab_type": "text"
      },
      "source": [
        "<a href=\"https://colab.research.google.com/github/GabrielaMorera/ModeloIA_Ecommerce/blob/main/Modelo_Ecommerce.ipynb\" target=\"_parent\"><img src=\"https://colab.research.google.com/assets/colab-badge.svg\" alt=\"Open In Colab\"/></a>"
      ]
    },
    {
      "cell_type": "markdown",
      "metadata": {
        "id": "TeO3tqkVGLSN"
      },
      "source": [
        "En este análisis, utilizaremos el *E-commerce Customer Behavior Dataset* de Kaggle para estudiar el comportamiento de los clientes y predecir la deserción (*churn*). Este conjunto de datos incluye información sobre la demografía de los clientes, sus transacciones y factores de comportamiento, como devoluciones y abandono. Para mejorar la precisión del modelo de predicción, aplicaremos *GridSearchCV* para optimizar los hiperparámetros de un modelo de *Random Forest*, ajustando la cantidad de árboles (*n_estimators*), la profundidad máxima (*max_depth*) y el número mínimo de muestras para dividir un nodo (*min_samples_split*). Además, realizaremos un análisis de importancia de características para identificar los factores clave que influyen en la deserción, como el monto total de compra, la categoría del producto, el método de pago y las devoluciones. Estos hallazgos permitirán a las empresas desarrollar estrategias efectivas de retención de clientes.\n",
        "\n",
        "**NOTA:** Es importante cambiar el entorno de ejecución a GPU 4 para que corra  más rápido"
      ]
    },
    {
      "cell_type": "markdown",
      "metadata": {
        "id": "tCmGz-PCGLSO"
      },
      "source": [
        "# Import Libraries"
      ]
    },
    {
      "cell_type": "code",
      "execution_count": 1,
      "metadata": {
        "execution": {
          "iopub.execute_input": "2025-02-25T17:05:26.491459Z",
          "iopub.status.busy": "2025-02-25T17:05:26.491025Z",
          "iopub.status.idle": "2025-02-25T17:05:26.497013Z",
          "shell.execute_reply": "2025-02-25T17:05:26.495459Z",
          "shell.execute_reply.started": "2025-02-25T17:05:26.491431Z"
        },
        "trusted": true,
        "id": "m2ZHxM-BGLSO"
      },
      "outputs": [],
      "source": [
        "import pandas as pd\n",
        "import numpy as np\n",
        "import matplotlib.pyplot as plt\n",
        "import seaborn as sns\n",
        "from sklearn.model_selection import train_test_split, cross_val_score, GridSearchCV\n",
        "from sklearn.preprocessing import StandardScaler, OneHotEncoder\n",
        "from sklearn.compose import ColumnTransformer\n",
        "from sklearn.pipeline import Pipeline\n",
        "from sklearn.ensemble import RandomForestClassifier, GradientBoostingClassifier\n",
        "from sklearn.linear_model import LogisticRegression\n",
        "from sklearn.metrics import classification_report, confusion_matrix, roc_curve, auc\n",
        "from sklearn.impute import SimpleImputer\n",
        "import xgboost as XGBClassifier\n",
        "import warnings\n",
        "warnings.filterwarnings('ignore')"
      ]
    },
    {
      "cell_type": "markdown",
      "metadata": {
        "id": "vEOseOPcGLSP"
      },
      "source": [
        "# 1. Carga de datos"
      ]
    },
    {
      "cell_type": "code",
      "execution_count": 2,
      "metadata": {
        "execution": {
          "iopub.execute_input": "2025-02-25T17:05:26.789973Z",
          "iopub.status.busy": "2025-02-25T17:05:26.789631Z",
          "iopub.status.idle": "2025-02-25T17:05:27.965167Z",
          "shell.execute_reply": "2025-02-25T17:05:27.963993Z",
          "shell.execute_reply.started": "2025-02-25T17:05:26.789948Z"
        },
        "trusted": true,
        "colab": {
          "base_uri": "https://localhost:8080/"
        },
        "id": "8yNXCNyJGLSP",
        "outputId": "b4a66d71-aadc-4e90-eeea-e77200637d28"
      },
      "outputs": [
        {
          "output_type": "stream",
          "name": "stdout",
          "text": [
            "Downloading from https://www.kaggle.com/api/v1/datasets/download/shriyashjagtap/e-commerce-customer-for-behavior-analysis?dataset_version_number=4...\n"
          ]
        },
        {
          "output_type": "stream",
          "name": "stderr",
          "text": [
            "100%|██████████| 9.94M/9.94M [00:00<00:00, 90.8MB/s]"
          ]
        },
        {
          "output_type": "stream",
          "name": "stdout",
          "text": [
            "Extracting files...\n"
          ]
        },
        {
          "output_type": "stream",
          "name": "stderr",
          "text": [
            "\n"
          ]
        },
        {
          "output_type": "stream",
          "name": "stdout",
          "text": [
            "Path to dataset files: /root/.cache/kagglehub/datasets/shriyashjagtap/e-commerce-customer-for-behavior-analysis/versions/4\n"
          ]
        }
      ],
      "source": [
        "import kagglehub\n",
        "\n",
        "# Download latest version\n",
        "path = kagglehub.dataset_download(\"shriyashjagtap/e-commerce-customer-for-behavior-analysis\")\n",
        "\n",
        "print(\"Path to dataset files:\", path)"
      ]
    },
    {
      "cell_type": "code",
      "source": [
        "dataset_path = \"/root/.cache/kagglehub/datasets/shriyashjagtap/e-commerce-customer-for-behavior-analysis/versions/4\""
      ],
      "metadata": {
        "id": "sJ_BMinvGns3"
      },
      "execution_count": 3,
      "outputs": []
    },
    {
      "cell_type": "code",
      "source": [
        "# Vamos a listar los archivos disponibles en esa ruta para encontrar el CSV\n",
        "import os\n",
        "print(\"Archivos disponibles en el directorio del dataset:\")\n",
        "for file in os.listdir(dataset_path):\n",
        "    print(f\"- {file}\")"
      ],
      "metadata": {
        "colab": {
          "base_uri": "https://localhost:8080/"
        },
        "id": "m0LY8hQ2IEMQ",
        "outputId": "045287f4-e8ed-45ba-84b0-e7e586a4312a"
      },
      "execution_count": 4,
      "outputs": [
        {
          "output_type": "stream",
          "name": "stdout",
          "text": [
            "Archivos disponibles en el directorio del dataset:\n",
            "- ecommerce_customer_data_custom_ratios.csv\n",
            "- ecommerce_customer_data_large.csv\n"
          ]
        }
      ]
    },
    {
      "cell_type": "code",
      "source": [
        "csv_file = \"ecommerce_customer_data_large.csv\"\n",
        "\n",
        "data = pd.read_csv(f\"{dataset_path}/{csv_file}\")\n",
        "print(f\"\\nUsando archivo: {csv_file}\")"
      ],
      "metadata": {
        "colab": {
          "base_uri": "https://localhost:8080/"
        },
        "id": "y2o83xIwH0Kb",
        "outputId": "0dcd9d43-182d-473a-fb15-ea6d7db70b3e"
      },
      "execution_count": 5,
      "outputs": [
        {
          "output_type": "stream",
          "name": "stdout",
          "text": [
            "\n",
            "Usando archivo: ecommerce_customer_data_large.csv\n"
          ]
        }
      ]
    },
    {
      "cell_type": "markdown",
      "metadata": {
        "id": "Yyi147s-GLSQ"
      },
      "source": [
        "# 2. Exploración y limpieza de los datos"
      ]
    },
    {
      "cell_type": "code",
      "source": [
        "print(\"Dimensiones del dataset:\", data.shape)\n",
        "print(\"\\nPrimeras filas del dataset:\")\n",
        "print(data.head())\n",
        "print(\"\\nInformación del dataset:\")\n",
        "print(data.info())\n",
        "print(\"\\nEstadísticas descriptivas:\")\n",
        "print(data.describe())"
      ],
      "metadata": {
        "colab": {
          "base_uri": "https://localhost:8080/"
        },
        "id": "thIU-GB7I19k",
        "outputId": "a246288d-c173-492c-d543-fa9c217cc7b9"
      },
      "execution_count": 6,
      "outputs": [
        {
          "output_type": "stream",
          "name": "stdout",
          "text": [
            "Dimensiones del dataset: (250000, 13)\n",
            "\n",
            "Primeras filas del dataset:\n",
            "   Customer ID        Purchase Date Product Category  Product Price  Quantity  \\\n",
            "0        44605  2023-05-03 21:30:02             Home            177         1   \n",
            "1        44605  2021-05-16 13:57:44      Electronics            174         3   \n",
            "2        44605  2020-07-13 06:16:57            Books            413         1   \n",
            "3        44605  2023-01-17 13:14:36      Electronics            396         3   \n",
            "4        44605  2021-05-01 11:29:27            Books            259         4   \n",
            "\n",
            "   Total Purchase Amount Payment Method  Customer Age  Returns Customer Name  \\\n",
            "0                   2427         PayPal            31      1.0   John Rivera   \n",
            "1                   2448         PayPal            31      1.0   John Rivera   \n",
            "2                   2345    Credit Card            31      1.0   John Rivera   \n",
            "3                    937           Cash            31      0.0   John Rivera   \n",
            "4                   2598         PayPal            31      1.0   John Rivera   \n",
            "\n",
            "   Age  Gender  Churn  \n",
            "0   31  Female      0  \n",
            "1   31  Female      0  \n",
            "2   31  Female      0  \n",
            "3   31  Female      0  \n",
            "4   31  Female      0  \n",
            "\n",
            "Información del dataset:\n",
            "<class 'pandas.core.frame.DataFrame'>\n",
            "RangeIndex: 250000 entries, 0 to 249999\n",
            "Data columns (total 13 columns):\n",
            " #   Column                 Non-Null Count   Dtype  \n",
            "---  ------                 --------------   -----  \n",
            " 0   Customer ID            250000 non-null  int64  \n",
            " 1   Purchase Date          250000 non-null  object \n",
            " 2   Product Category       250000 non-null  object \n",
            " 3   Product Price          250000 non-null  int64  \n",
            " 4   Quantity               250000 non-null  int64  \n",
            " 5   Total Purchase Amount  250000 non-null  int64  \n",
            " 6   Payment Method         250000 non-null  object \n",
            " 7   Customer Age           250000 non-null  int64  \n",
            " 8   Returns                202618 non-null  float64\n",
            " 9   Customer Name          250000 non-null  object \n",
            " 10  Age                    250000 non-null  int64  \n",
            " 11  Gender                 250000 non-null  object \n",
            " 12  Churn                  250000 non-null  int64  \n",
            "dtypes: float64(1), int64(7), object(5)\n",
            "memory usage: 24.8+ MB\n",
            "None\n",
            "\n",
            "Estadísticas descriptivas:\n",
            "         Customer ID  Product Price       Quantity  Total Purchase Amount  \\\n",
            "count  250000.000000  250000.000000  250000.000000          250000.000000   \n",
            "mean    25017.632092     254.742724       3.004936            2725.385196   \n",
            "std     14412.515718     141.738104       1.414737            1442.576095   \n",
            "min         1.000000      10.000000       1.000000             100.000000   \n",
            "25%     12590.000000     132.000000       2.000000            1476.000000   \n",
            "50%     25011.000000     255.000000       3.000000            2725.000000   \n",
            "75%     37441.250000     377.000000       4.000000            3975.000000   \n",
            "max     50000.000000     500.000000       5.000000            5350.000000   \n",
            "\n",
            "        Customer Age        Returns            Age         Churn  \n",
            "count  250000.000000  202618.000000  250000.000000  250000.00000  \n",
            "mean       43.798276       0.500824      43.798276       0.20052  \n",
            "std        15.364915       0.500001      15.364915       0.40039  \n",
            "min        18.000000       0.000000      18.000000       0.00000  \n",
            "25%        30.000000       0.000000      30.000000       0.00000  \n",
            "50%        44.000000       1.000000      44.000000       0.00000  \n",
            "75%        57.000000       1.000000      57.000000       0.00000  \n",
            "max        70.000000       1.000000      70.000000       1.00000  \n"
          ]
        }
      ]
    },
    {
      "cell_type": "code",
      "execution_count": 7,
      "metadata": {
        "execution": {
          "iopub.execute_input": "2025-02-25T17:05:36.840045Z",
          "iopub.status.busy": "2025-02-25T17:05:36.83965Z",
          "iopub.status.idle": "2025-02-25T17:05:36.917512Z",
          "shell.execute_reply": "2025-02-25T17:05:36.916361Z",
          "shell.execute_reply.started": "2025-02-25T17:05:36.840017Z"
        },
        "trusted": true,
        "colab": {
          "base_uri": "https://localhost:8080/"
        },
        "id": "dqupqHuYGLSQ",
        "outputId": "9c879b8e-1484-4f80-965e-c77195e48628"
      },
      "outputs": [
        {
          "output_type": "stream",
          "name": "stdout",
          "text": [
            "Dataset contains 250000 rows and 13 columns \n",
            "\n",
            "Customer ID                  0\n",
            "Purchase Date                0\n",
            "Product Category             0\n",
            "Product Price                0\n",
            "Quantity                     0\n",
            "Total Purchase Amount        0\n",
            "Payment Method               0\n",
            "Customer Age                 0\n",
            "Returns                  47382\n",
            "Customer Name                0\n",
            "Age                          0\n",
            "Gender                       0\n",
            "Churn                        0\n",
            "dtype: int64\n",
            "\n",
            "\n"
          ]
        }
      ],
      "source": [
        "print(f'Dataset contains {data.shape[0]} rows and {data.shape[1]} columns \\n')\n",
        "print(data.isnull().sum())\n",
        "print('\\n')"
      ]
    },
    {
      "cell_type": "code",
      "execution_count": 8,
      "metadata": {
        "execution": {
          "iopub.execute_input": "2025-02-25T17:05:36.919443Z",
          "iopub.status.busy": "2025-02-25T17:05:36.919028Z",
          "iopub.status.idle": "2025-02-25T17:05:37.118267Z",
          "shell.execute_reply": "2025-02-25T17:05:37.116751Z",
          "shell.execute_reply.started": "2025-02-25T17:05:36.919408Z"
        },
        "trusted": true,
        "colab": {
          "base_uri": "https://localhost:8080/"
        },
        "id": "M5BftuRxGLSQ",
        "outputId": "0bd63791-21bc-4d47-c2b0-6f3fe9f87885"
      },
      "outputs": [
        {
          "output_type": "stream",
          "name": "stdout",
          "text": [
            "Customer ID                int64\n",
            "Purchase Date             object\n",
            "Product Category          object\n",
            "Product Price              int64\n",
            "Quantity                   int64\n",
            "Total Purchase Amount      int64\n",
            "Payment Method            object\n",
            "Customer Age               int64\n",
            "Returns                  float64\n",
            "Customer Name             object\n",
            "Age                        int64\n",
            "Gender                    object\n",
            "Churn                      int64\n",
            "dtype: object\n",
            "\n",
            "\n",
            "Duplicate rows: 0\n"
          ]
        }
      ],
      "source": [
        "print(data.dtypes)\n",
        "print('\\n')\n",
        "print(f'Duplicate rows: {data.duplicated().sum()}')"
      ]
    },
    {
      "cell_type": "markdown",
      "source": [
        "# 3. Análisis exploratorio de datos"
      ],
      "metadata": {
        "id": "Z2xMGYexKuna"
      }
    },
    {
      "cell_type": "code",
      "source": [
        "# Revisamos las columnas disponibles para definir el churn apropiadamente\n",
        "print(\"\\nColumnas disponibles en el dataset:\")\n",
        "print(data.columns.tolist())"
      ],
      "metadata": {
        "colab": {
          "base_uri": "https://localhost:8080/"
        },
        "id": "ri7oqOYBKJ6x",
        "outputId": "4ccf5b18-4507-4de6-8b7b-57ccfb10e223"
      },
      "execution_count": 9,
      "outputs": [
        {
          "output_type": "stream",
          "name": "stdout",
          "text": [
            "\n",
            "Columnas disponibles en el dataset:\n",
            "['Customer ID', 'Purchase Date', 'Product Category', 'Product Price', 'Quantity', 'Total Purchase Amount', 'Payment Method', 'Customer Age', 'Returns', 'Customer Name', 'Age', 'Gender', 'Churn']\n"
          ]
        }
      ]
    },
    {
      "cell_type": "code",
      "source": [
        "print(\"\\nInformación sobre la variable objetivo (Churn):\")\n",
        "print(f\"Tipo de dato: {data['Churn'].dtype}\")\n",
        "print(f\"Valores únicos: {data['Churn'].unique()}\")\n",
        "print(f\"Distribución:\\n{data['Churn'].value_counts(normalize=True).apply(lambda x: f'{x:.2%}')}\")"
      ],
      "metadata": {
        "colab": {
          "base_uri": "https://localhost:8080/"
        },
        "id": "dDJkCjwKLIFe",
        "outputId": "c2454802-4d47-4753-f19e-d93b28882c91"
      },
      "execution_count": 10,
      "outputs": [
        {
          "output_type": "stream",
          "name": "stdout",
          "text": [
            "\n",
            "Información sobre la variable objetivo (Churn):\n",
            "Tipo de dato: int64\n",
            "Valores únicos: [0 1]\n",
            "Distribución:\n",
            "Churn\n",
            "0    79.95%\n",
            "1    20.05%\n",
            "Name: proportion, dtype: object\n"
          ]
        }
      ]
    },
    {
      "cell_type": "code",
      "source": [
        "# Visualización de la distribución de churn\n",
        "plt.figure(figsize=(10, 6))\n",
        "churn_count = data['Churn'].value_counts()\n",
        "sns.barplot(x=churn_count.index, y=churn_count.values)\n",
        "plt.title('Distribución de Clientes que Abandonan vs. Retienen', fontsize=15)\n",
        "plt.xlabel('Abandono (1 = Sí, 0 = No)', fontsize=12)\n",
        "plt.ylabel('Cantidad de Clientes', fontsize=12)\n",
        "plt.xticks([0, 1], ['Retienen', 'Abandonan'])\n",
        "for i, v in enumerate(churn_count.values):\n",
        "    plt.text(i, v + 50, f\"{v} ({v/sum(churn_count.values):.1%})\",\n",
        "             ha='center', va='bottom', fontsize=12)\n",
        "plt.savefig('churn_distribution.png')\n",
        "print(\"Gráfico de distribución de churn guardado como 'churn_distribution.png'\")"
      ],
      "metadata": {
        "colab": {
          "base_uri": "https://localhost:8080/",
          "height": 590
        },
        "id": "DffThC2UM-jh",
        "outputId": "3c65a541-6266-41ad-faf3-4779cfde1160"
      },
      "execution_count": 11,
      "outputs": [
        {
          "output_type": "stream",
          "name": "stdout",
          "text": [
            "Gráfico de distribución de churn guardado como 'churn_distribution.png'\n"
          ]
        },
        {
          "output_type": "display_data",
          "data": {
            "text/plain": [
              "<Figure size 1000x600 with 1 Axes>"
            ],
            "image/png": "[encoded data removed]"
          },
          "metadata": {}
        }
      ]
    },
    {
      "cell_type": "code",
      "source": [
        "# Análisis de distribución por género\n",
        "if 'Gender' in data.columns:\n",
        "    plt.figure(figsize=(12, 6))\n",
        "    gender_churn = pd.crosstab(data['Gender'], data['Churn'], normalize='index')\n",
        "    gender_churn.plot(kind='bar', stacked=True, colormap='viridis')\n",
        "    plt.title('Tasa de Abandono por Género', fontsize=15)\n",
        "    plt.xlabel('Género', fontsize=12)\n",
        "    plt.ylabel('Proporción', fontsize=12)\n",
        "    plt.legend(['Retiene', 'Abandona'])\n",
        "    plt.savefig('gender_churn_distribution.png')\n",
        "    print(\"Gráfico de abandono por género guardado como 'gender_churn_distribution.png'\")"
      ],
      "metadata": {
        "colab": {
          "base_uri": "https://localhost:8080/",
          "height": 551
        },
        "id": "DoSFb82ONTUQ",
        "outputId": "7a8bad34-7e58-41b4-ebd3-2581f3975279"
      },
      "execution_count": 12,
      "outputs": [
        {
          "output_type": "stream",
          "name": "stdout",
          "text": [
            "Gráfico de abandono por género guardado como 'gender_churn_distribution.png'\n"
          ]
        },
        {
          "output_type": "display_data",
          "data": {
            "text/plain": [
              "<Figure size 1200x600 with 0 Axes>"
            ]
          },
          "metadata": {}
        },
        {
          "output_type": "display_data",
          "data": {
            "text/plain": [
              "<Figure size 640x480 with 1 Axes>"
            ],
            "image/png": "[encoded data removed]"
          },
          "metadata": {}
        }
      ]
    },
    {
      "cell_type": "code",
      "source": [
        "# Análisis por categoría de producto si existe\n",
        "if 'Product Category' in data.columns:\n",
        "    plt.figure(figsize=(14, 8))\n",
        "    product_churn = pd.crosstab(data['Product Category'], data['Churn'], normalize='index')\n",
        "    product_churn.plot(kind='bar', stacked=True, colormap='viridis')\n",
        "    plt.title('Tasa de Abandono por Categoría de Producto', fontsize=15)\n",
        "    plt.xlabel('Categoría de Producto', fontsize=12)\n",
        "    plt.ylabel('Proporción', fontsize=12)\n",
        "    plt.legend(['Retiene', 'Abandona'])\n",
        "    plt.xticks(rotation=45, ha='right')\n",
        "    plt.tight_layout()\n",
        "    plt.savefig('product_category_churn.png')\n",
        "    print(\"Gráfico de abandono por categoría de producto guardado como 'product_category_churn.png'\")"
      ],
      "metadata": {
        "colab": {
          "base_uri": "https://localhost:8080/",
          "height": 523
        },
        "id": "UEzOJMRvNY5e",
        "outputId": "63f31532-013a-4ac6-9419-454a907bc1c4"
      },
      "execution_count": 13,
      "outputs": [
        {
          "output_type": "stream",
          "name": "stdout",
          "text": [
            "Gráfico de abandono por categoría de producto guardado como 'product_category_churn.png'\n"
          ]
        },
        {
          "output_type": "display_data",
          "data": {
            "text/plain": [
              "<Figure size 1400x800 with 0 Axes>"
            ]
          },
          "metadata": {}
        },
        {
          "output_type": "display_data",
          "data": {
            "text/plain": [
              "<Figure size 640x480 with 1 Axes>"
            ],
            "image/png": "[encoded data removed]"
          },
          "metadata": {}
        }
      ]
    },
    {
      "cell_type": "code",
      "source": [
        "# Análisis de variables numéricas\n",
        "numeric_features = data.select_dtypes(include=['int64', 'float64']).columns.tolist()\n",
        "# Excluir la variable objetivo y columnas de ID\n",
        "exclude_cols = ['Churn']\n",
        "id_cols = [col for col in numeric_features if any(kw in col.lower() for kw in ['id', 'customer'])]\n",
        "exclude_cols.extend(id_cols)\n",
        "numeric_features = [f for f in numeric_features if f not in exclude_cols]\n",
        "\n",
        "print(f\"\\nCaracterísticas numéricas para análisis: {numeric_features}\")\n",
        "\n",
        "if len(numeric_features) > 0:\n",
        "    # Calcular correlaciones con churn\n",
        "    correlations = [(feat, abs(data[feat].corr(data['Churn']))) for feat in numeric_features]\n",
        "    correlations.sort(key=lambda x: x[1], reverse=True)\n",
        "\n",
        "    print(\"\\nCorrelaciones con Churn (ordenadas):\")\n",
        "    for feat, corr in correlations:\n",
        "        print(f\"{feat}: {corr:.4f}\")\n",
        "\n",
        "    # Limitar a las 6 características más correlacionadas con churn\n",
        "    top_features = [feat for feat, corr in correlations[:6]]\n",
        "\n",
        "       # Análisis de correlación con mapa de calor mejorado\n",
        "    plt.figure(figsize=(14, 12))\n",
        "    corr_matrix = data[numeric_features + ['Churn']].corr()\n",
        "    mask = np.triu(np.ones_like(corr_matrix, dtype=bool))\n",
        "    cmap = sns.diverging_palette(230, 20, as_cmap=True)\n",
        "    sns.heatmap(corr_matrix, mask=mask, cmap=cmap, vmax=1, vmin=-1, center=0,\n",
        "                annot=True, fmt='.2f', square=True, linewidths=.5)\n",
        "    plt.title('Matriz de Correlación', fontsize=16)\n",
        "    plt.tight_layout()\n",
        "    plt.savefig('correlation_matrix.png')\n",
        "    print(\"Matriz de correlación guardada como 'correlation_matrix.png'\")\n",
        "\n",
        "    # Análisis de distribución de edad por abandono si existe la columna\n",
        "    age_cols = [col for col in numeric_features if 'age' in col.lower()]\n",
        "    if age_cols:\n",
        "        age_col = age_cols[0]  # Usar la primera columna de edad encontrada\n",
        "        plt.figure(figsize=(12, 6))\n",
        "        sns.histplot(data=data, x=age_col, hue='Churn', multiple='dodge', bins=20, shrink=0.8)\n",
        "        plt.title(f'Distribución de {age_col} por Estado de Abandono', fontsize=15)\n",
        "        plt.xlabel(age_col, fontsize=12)\n",
        "        plt.ylabel('Frecuencia', fontsize=12)\n",
        "        plt.legend(['Retiene', 'Abandona'])\n",
        "        plt.savefig('age_distribution_by_churn.png')\n",
        "        print(f\"Distribución de {age_col} por abandono guardada como 'age_distribution_by_churn.png'\")"
      ],
      "metadata": {
        "colab": {
          "base_uri": "https://localhost:8080/",
          "height": 1000
        },
        "id": "DMVrs6BCNfu0",
        "outputId": "f6917bf4-a3ff-4196-eb72-3d2315e5430e"
      },
      "execution_count": 14,
      "outputs": [
        {
          "output_type": "stream",
          "name": "stdout",
          "text": [
            "\n",
            "Características numéricas para análisis: ['Product Price', 'Quantity', 'Total Purchase Amount', 'Returns', 'Age']\n",
            "\n",
            "Correlaciones con Churn (ordenadas):\n",
            "Returns: 0.0041\n",
            "Age: 0.0023\n",
            "Quantity: 0.0014\n",
            "Product Price: 0.0012\n",
            "Total Purchase Amount: 0.0007\n",
            "Matriz de correlación guardada como 'correlation_matrix.png'\n",
            "Distribución de Age por abandono guardada como 'age_distribution_by_churn.png'\n"
          ]
        },
        {
          "output_type": "display_data",
          "data": {
            "text/plain": [
              "<Figure size 1400x1200 with 2 Axes>"
            ],
            "image/png": "[encoded data removed]"
          },
          "metadata": {}
        },
        {
          "output_type": "display_data",
          "data": {
            "text/plain": [
              "<Figure size 1200x600 with 1 Axes>"
            ],
            "image/png": "[encoded data removed]"
          },
          "metadata": {}
        }
      ]
    },
    {
      "cell_type": "markdown",
      "metadata": {
        "id": "I31XfR-sGLSQ"
      },
      "source": [
        "# 4. Preprocesamiento de datos"
      ]
    },
    {
      "cell_type": "code",
      "source": [
        "# Eliminar columnas de ID y nombre de cliente\n",
        "id_name_columns = [col for col in data.columns if any(kw in col.lower() for kw in ['customer id', 'customer name'])]\n",
        "print(f\"\\nColumnas de ID y nombre que se eliminarán: {id_name_columns}\")\n",
        "data.drop(columns=id_name_columns, inplace=True, errors='ignore')"
      ],
      "metadata": {
        "colab": {
          "base_uri": "https://localhost:8080/"
        },
        "id": "EAM31UdiORkj",
        "outputId": "bb3a2c57-bc49-422c-c748-fbc60be7651f"
      },
      "execution_count": 15,
      "outputs": [
        {
          "output_type": "stream",
          "name": "stdout",
          "text": [
            "\n",
            "Columnas de ID y nombre que se eliminarán: ['Customer ID', 'Customer Name']\n"
          ]
        }
      ]
    },
    {
      "cell_type": "code",
      "source": [
        "# Procesar columnas de fecha\n",
        "date_columns = [col for col in data.columns if any(kw in col.lower() for kw in ['date', 'purchase date'])]\n",
        "for date_col in date_columns:\n",
        "    try:\n",
        "        print(f\"\\nProcesando columna de fecha: {date_col}\")\n",
        "        data[date_col] = pd.to_datetime(data[date_col], errors='coerce')\n",
        "        # Extraer componentes de fecha\n",
        "        data[f'Year'] = data[date_col].dt.year\n",
        "        data[f'Month'] = data[date_col].dt.month\n",
        "        data[f'Day'] = data[date_col].dt.day\n",
        "        # Eliminar columna original de fecha\n",
        "        data.drop(columns=[date_col], inplace=True)\n",
        "        print(f\"Columna {date_col} procesada y componentes extraídos.\")\n",
        "    except Exception as e:\n",
        "        print(f\"Error al procesar columna {date_col}: {e}\")"
      ],
      "metadata": {
        "colab": {
          "base_uri": "https://localhost:8080/"
        },
        "id": "5_NxgX2lOY4w",
        "outputId": "30bda5b4-579b-48dc-c44c-668fec1a6dba"
      },
      "execution_count": 16,
      "outputs": [
        {
          "output_type": "stream",
          "name": "stdout",
          "text": [
            "\n",
            "Procesando columna de fecha: Purchase Date\n",
            "Columna Purchase Date procesada y componentes extraídos.\n"
          ]
        }
      ]
    },
    {
      "cell_type": "code",
      "source": [
        "# Manejo de valores nulos específicos para 'Returns'\n",
        "if 'Returns' in data.columns and data['Returns'].isnull().sum() > 0:\n",
        "    data['Returns'].fillna(data['Returns'].mode()[0], inplace=True)\n",
        "    print(f\"Valores nulos en 'Returns' rellenados con la moda: {data['Returns'].mode()[0]}\")"
      ],
      "metadata": {
        "colab": {
          "base_uri": "https://localhost:8080/"
        },
        "id": "h37Jz4e2M7zd",
        "outputId": "a15211ee-ca79-4f78-9720-e57bbf0df7ff"
      },
      "execution_count": 17,
      "outputs": [
        {
          "output_type": "stream",
          "name": "stdout",
          "text": [
            "Valores nulos en 'Returns' rellenados con la moda: 1.0\n"
          ]
        }
      ]
    },
    {
      "cell_type": "code",
      "source": [
        "# One-hot encoding para columnas categóricas específicas\n",
        "categorical_columns_to_encode = [col for col in data.columns if col in ['Gender', 'Payment Method', 'Product Category']]\n",
        "if categorical_columns_to_encode:\n",
        "    print(f\"\\nAplicando one-hot encoding a: {categorical_columns_to_encode}\")\n",
        "    data = pd.get_dummies(data, columns=categorical_columns_to_encode, drop_first=True)\n",
        "    print(f\"Nuevas columnas después de one-hot encoding: {len(data.columns) - len(data.columns)}\")"
      ],
      "metadata": {
        "colab": {
          "base_uri": "https://localhost:8080/"
        },
        "id": "heJt-jSEQYe4",
        "outputId": "3b7d6d75-093b-4050-89a9-d2559545104a"
      },
      "execution_count": 18,
      "outputs": [
        {
          "output_type": "stream",
          "name": "stdout",
          "text": [
            "\n",
            "Aplicando one-hot encoding a: ['Product Category', 'Payment Method', 'Gender']\n",
            "Nuevas columnas después de one-hot encoding: 0\n"
          ]
        }
      ]
    },
    {
      "cell_type": "code",
      "source": [
        "# Separar características y variable objetivo\n",
        "X = data.drop('Churn', axis=1)\n",
        "y = data['Churn']"
      ],
      "metadata": {
        "id": "xFh8AWSyQeQr"
      },
      "execution_count": 19,
      "outputs": []
    },
    {
      "cell_type": "code",
      "source": [
        "# Identificar tipos de columnas actualizadas después de preprocesamiento\n",
        "categorical_cols = X.select_dtypes(include=['object', 'category']).columns.tolist()\n",
        "numeric_cols = X.select_dtypes(include=['int64', 'float64']).columns.tolist()\n",
        "\n",
        "print(f\"\\nCaracterísticas categóricas para preprocesamiento: {categorical_cols}\")\n",
        "print(f\"\\nCaracterísticas numéricas para preprocesamiento: {numeric_cols}\")"
      ],
      "metadata": {
        "colab": {
          "base_uri": "https://localhost:8080/"
        },
        "id": "CY-GZFKYQgVG",
        "outputId": "6c24dc00-6165-44c6-c11e-2c9fe49cbc8e"
      },
      "execution_count": 20,
      "outputs": [
        {
          "output_type": "stream",
          "name": "stdout",
          "text": [
            "\n",
            "Características categóricas para preprocesamiento: []\n",
            "\n",
            "Características numéricas para preprocesamiento: ['Product Price', 'Quantity', 'Total Purchase Amount', 'Customer Age', 'Returns', 'Age']\n"
          ]
        }
      ]
    },
    {
      "cell_type": "code",
      "source": [
        "# Crear preprocesadores para columnas numéricas\n",
        "numeric_transformer = Pipeline(steps=[\n",
        "    ('imputer', SimpleImputer(strategy='median')),\n",
        "    ('scaler', StandardScaler())\n",
        "])"
      ],
      "metadata": {
        "id": "0njSQNM2Qitf"
      },
      "execution_count": 21,
      "outputs": []
    },
    {
      "cell_type": "code",
      "source": [
        "# Crear preprocesadores para columnas categóricas restantes\n",
        "if categorical_cols:\n",
        "    categorical_transformer = Pipeline(steps=[\n",
        "        ('imputer', SimpleImputer(strategy='most_frequent')),\n",
        "        ('onehot', OneHotEncoder(handle_unknown='ignore', sparse_output=False))\n",
        "    ])\n",
        "\n",
        "    # Combinar preprocesadores\n",
        "    preprocessor = ColumnTransformer(\n",
        "        transformers=[\n",
        "            ('num', numeric_transformer, numeric_cols),\n",
        "            ('cat', categorical_transformer, categorical_cols)\n",
        "        ],\n",
        "        remainder='passthrough'  # Mantener columnas no especificadas\n",
        "    )\n",
        "else:\n",
        "    # Si no hay características categóricas restantes\n",
        "    preprocessor = ColumnTransformer(\n",
        "        transformers=[\n",
        "            ('num', numeric_transformer, numeric_cols)\n",
        "        ],\n",
        "        remainder='passthrough'  # Mantener columnas no especificadas\n",
        "    )"
      ],
      "metadata": {
        "id": "KRbnDJqQQkY2"
      },
      "execution_count": 22,
      "outputs": []
    },
    {
      "cell_type": "markdown",
      "metadata": {
        "id": "yIhanjqTGLSR"
      },
      "source": [
        "# 5. Manejo de datos desbalanceado"
      ]
    },
    {
      "cell_type": "code",
      "execution_count": 23,
      "metadata": {
        "execution": {
          "iopub.execute_input": "2025-02-25T17:05:37.486499Z",
          "iopub.status.busy": "2025-02-25T17:05:37.486093Z",
          "iopub.status.idle": "2025-02-25T17:05:37.802452Z",
          "shell.execute_reply": "2025-02-25T17:05:37.80124Z",
          "shell.execute_reply.started": "2025-02-25T17:05:37.486467Z"
        },
        "trusted": true,
        "colab": {
          "base_uri": "https://localhost:8080/",
          "height": 543
        },
        "id": "9myDhdAgGLSR",
        "outputId": "2d4a13bb-3df3-4fee-980a-14d3944a6bfb"
      },
      "outputs": [
        {
          "output_type": "display_data",
          "data": {
            "text/plain": [
              "<Figure size 640x480 with 1 Axes>"
            ],
            "image/png": "[encoded data removed]"
          },
          "metadata": {}
        },
        {
          "output_type": "stream",
          "name": "stdout",
          "text": [
            "Churn\n",
            "0    79.948\n",
            "1    20.052\n",
            "Name: count, dtype: float64\n"
          ]
        }
      ],
      "source": [
        "sns.countplot(x=data['Churn'])\n",
        "plt.title('Churn Distribution')\n",
        "plt.show()\n",
        "\n",
        "print(((data['Churn'].value_counts())/len(data))*100)"
      ]
    },
    {
      "cell_type": "code",
      "execution_count": 24,
      "metadata": {
        "execution": {
          "iopub.execute_input": "2025-02-25T17:05:37.804556Z",
          "iopub.status.busy": "2025-02-25T17:05:37.804193Z",
          "iopub.status.idle": "2025-02-25T17:05:40.63215Z",
          "shell.execute_reply": "2025-02-25T17:05:40.63105Z",
          "shell.execute_reply.started": "2025-02-25T17:05:37.804528Z"
        },
        "trusted": true,
        "colab": {
          "base_uri": "https://localhost:8080/"
        },
        "id": "mbzO7uKgGLSR",
        "outputId": "06568ef0-583a-400b-b856-a27c1c8f9ecd"
      },
      "outputs": [
        {
          "output_type": "stream",
          "name": "stdout",
          "text": [
            "Distribución de clases original:\n",
            "Churn\n",
            "0    199870\n",
            "1     50130\n",
            "Name: count, dtype: int64\n",
            "Distribución de clases después del remuestreo:\n",
            "Churn\n",
            "0    199870\n",
            "1    199870\n",
            "Name: count, dtype: int64\n"
          ]
        }
      ],
      "source": [
        "from imblearn.over_sampling import SMOTE\n",
        "\n",
        "smote = SMOTE(random_state=42)\n",
        "X_reshampled, y_reshampled = smote.fit_resample(X, y)\n",
        "\n",
        "# Verificar el equilibrio de los datos remuestreados\n",
        "print(f\"Distribución de clases original:\\n{y.value_counts()}\")\n",
        "print(f\"Distribución de clases después del remuestreo:\\n{y_reshampled.value_counts()}\")"
      ]
    },
    {
      "cell_type": "markdown",
      "metadata": {
        "id": "DZgFWt6NGLSR"
      },
      "source": [
        "# 6. Normalizar Características Numéricas\n"
      ]
    },
    {
      "cell_type": "code",
      "execution_count": 25,
      "metadata": {
        "execution": {
          "iopub.execute_input": "2025-02-25T17:05:40.633949Z",
          "iopub.status.busy": "2025-02-25T17:05:40.633431Z",
          "iopub.status.idle": "2025-02-25T17:05:40.716844Z",
          "shell.execute_reply": "2025-02-25T17:05:40.715538Z",
          "shell.execute_reply.started": "2025-02-25T17:05:40.633923Z"
        },
        "trusted": true,
        "id": "jnepYNxQGLSR"
      },
      "outputs": [],
      "source": [
        "# We standardize numerical values to improve model performance.\n",
        "from sklearn.preprocessing import StandardScaler\n",
        "\n",
        "scaler = StandardScaler()\n",
        "numeric_cols = ['Customer Age', 'Product Price', 'Quantity', 'Total Purchase Amount']\n",
        "X_reshampled[numeric_cols] = scaler.fit_transform(X_reshampled[numeric_cols])"
      ]
    },
    {
      "cell_type": "markdown",
      "metadata": {
        "id": "iETnLoQvGLSS"
      },
      "source": [
        "# 7. División en conjunto de entrenamiento y prueba"
      ]
    },
    {
      "cell_type": "code",
      "execution_count": 26,
      "metadata": {
        "execution": {
          "iopub.execute_input": "2025-02-25T17:05:47.289604Z",
          "iopub.status.busy": "2025-02-25T17:05:47.289201Z",
          "iopub.status.idle": "2025-02-25T17:05:47.797246Z",
          "shell.execute_reply": "2025-02-25T17:05:47.796076Z",
          "shell.execute_reply.started": "2025-02-25T17:05:47.28956Z"
        },
        "trusted": true,
        "colab": {
          "base_uri": "https://localhost:8080/"
        },
        "id": "TqgNU_UWGLSS",
        "outputId": "1e9b28ac-0c84-482f-951a-c716a34577b0"
      },
      "outputs": [
        {
          "output_type": "stream",
          "name": "stdout",
          "text": [
            "\n",
            "Dimensiones después del preprocesamiento:\n",
            "X_train: (175000, 15)\n",
            "X_test: (75000, 15)\n",
            "y_train: (175000,)\n",
            "y_test: (75000,)\n"
          ]
        }
      ],
      "source": [
        "from sklearn.model_selection import train_test_split\n",
        "\n",
        "X_train, X_test, y_train, y_test = train_test_split(X, y, test_size=0.3, random_state=42, stratify=y)\n",
        "\n",
        "print(\"\\nDimensiones después del preprocesamiento:\")\n",
        "print(f\"X_train: {X_train.shape}\")\n",
        "print(f\"X_test: {X_test.shape}\")\n",
        "print(f\"y_train: {y_train.shape}\")\n",
        "print(f\"y_test: {y_test.shape}\")"
      ]
    },
    {
      "cell_type": "markdown",
      "source": [
        "# 8. Construcción de modelos"
      ],
      "metadata": {
        "id": "UdFGgLngSz3o"
      }
    },
    {
      "cell_type": "code",
      "source": [
        "from sklearn.linear_model import LogisticRegression\n",
        "\n",
        "# Modelo 1: Regresión Logística\n",
        "log_reg_pipeline = Pipeline(steps=[\n",
        "    ('preprocessor', preprocessor),\n",
        "    ('classifier', LogisticRegression(random_state=42, max_iter=1000, class_weight='balanced'))\n",
        "])"
      ],
      "metadata": {
        "id": "I7UcvLyKSufj"
      },
      "execution_count": 27,
      "outputs": []
    },
    {
      "cell_type": "code",
      "source": [
        "from sklearn.ensemble import RandomForestClassifier\n",
        "\n",
        "# Modelo 2: Random Forest\n",
        "rf_pipeline = Pipeline(steps=[\n",
        "    ('preprocessor', preprocessor),\n",
        "    ('classifier', RandomForestClassifier(random_state=42, class_weight='balanced'))\n",
        "])"
      ],
      "metadata": {
        "id": "NkzAp1mMS3ej"
      },
      "execution_count": 28,
      "outputs": []
    },
    {
      "cell_type": "code",
      "source": [
        "from sklearn.ensemble import GradientBoostingClassifier\n",
        "\n",
        "# Modelo 3: Gradient Boosting\n",
        "gb_pipeline = Pipeline(steps=[\n",
        "    ('preprocessor', preprocessor),\n",
        "    ('classifier', GradientBoostingClassifier(random_state=42))\n",
        "])"
      ],
      "metadata": {
        "id": "iDFSfpHAS5D8"
      },
      "execution_count": 29,
      "outputs": []
    },
    {
      "cell_type": "code",
      "source": [
        "from xgboost import XGBClassifier\n",
        "\n",
        "# Modelo 4: XGBoost\n",
        "xgb_pipeline = Pipeline(steps=[\n",
        "    ('preprocessor', preprocessor),\n",
        "    ('classifier', XGBClassifier(random_state=42, scale_pos_weight=data['Churn'].value_counts()[0]/data['Churn'].value_counts()[1]))\n",
        "])"
      ],
      "metadata": {
        "id": "i1_phQdgS7pF"
      },
      "execution_count": 30,
      "outputs": []
    },
    {
      "cell_type": "code",
      "source": [
        "# Lista de modelos para evaluación\n",
        "models = [\n",
        "    ('Regresión Logística', log_reg_pipeline),\n",
        "    ('Random Forest', rf_pipeline),\n",
        "    ('Gradient Boosting', gb_pipeline),\n",
        "    ('XGBoost', xgb_pipeline)\n",
        "]"
      ],
      "metadata": {
        "id": "evG71YSkTF1M"
      },
      "execution_count": 31,
      "outputs": []
    },
    {
      "cell_type": "markdown",
      "source": [
        "# 9. Evaluación de modelos con múltiples métricas"
      ],
      "metadata": {
        "id": "iqeQrOevT1FU"
      }
    },
    {
      "cell_type": "code",
      "source": [
        "from sklearn.model_selection import cross_val_score\n",
        "\n",
        "scoring_metrics = ['accuracy', 'precision', 'recall', 'f1', 'roc_auc']\n",
        "results = {}\n",
        "\n",
        "for name, model in models:\n",
        "    print(f\"\\nEvaluando modelo: {name}\")\n",
        "    model_results = {}\n",
        "\n",
        "    for metric in scoring_metrics:\n",
        "        cv_results = cross_val_score(model, X_train, y_train, cv=5, scoring=metric)\n",
        "        model_results[metric] = cv_results\n",
        "        print(f\"{metric}: {cv_results.mean():.4f} (+/- {cv_results.std():.4f})\")\n",
        "\n",
        "    results[name] = model_results"
      ],
      "metadata": {
        "colab": {
          "base_uri": "https://localhost:8080/"
        },
        "id": "iKH1MCKUT1nc",
        "outputId": "24bd5446-aae1-400f-952d-adc8b4ea6a57"
      },
      "execution_count": 32,
      "outputs": [
        {
          "output_type": "stream",
          "name": "stdout",
          "text": [
            "\n",
            "Evaluando modelo: Regresión Logística\n",
            "accuracy: 0.5019 (+/- 0.0083)\n",
            "precision: 0.2020 (+/- 0.0019)\n",
            "recall: 0.5030 (+/- 0.0171)\n",
            "f1: 0.2882 (+/- 0.0042)\n",
            "roc_auc: 0.5005 (+/- 0.0039)\n",
            "\n",
            "Evaluando modelo: Random Forest\n",
            "accuracy: 0.7993 (+/- 0.0000)\n",
            "precision: 0.1222 (+/- 0.0793)\n",
            "recall: 0.0001 (+/- 0.0001)\n",
            "f1: 0.0002 (+/- 0.0001)\n",
            "roc_auc: 0.5034 (+/- 0.0026)\n",
            "\n",
            "Evaluando modelo: Gradient Boosting\n",
            "accuracy: 0.7995 (+/- 0.0000)\n",
            "precision: 0.2000 (+/- 0.4000)\n",
            "recall: 0.0001 (+/- 0.0001)\n",
            "f1: 0.0001 (+/- 0.0002)\n",
            "roc_auc: 0.5115 (+/- 0.0019)\n",
            "\n",
            "Evaluando modelo: XGBoost\n",
            "accuracy: 0.5559 (+/- 0.0023)\n",
            "precision: 0.2040 (+/- 0.0015)\n",
            "recall: 0.4185 (+/- 0.0056)\n",
            "f1: 0.2743 (+/- 0.0024)\n",
            "roc_auc: 0.5062 (+/- 0.0025)\n"
          ]
        }
      ]
    },
    {
      "cell_type": "code",
      "source": [
        "# Visualización de resultados de validación cruzada para ROC AUC\n",
        "plt.figure(figsize=(12, 8))\n",
        "roc_auc_results = [results[name]['roc_auc'] for name in [m[0] for m in models]]\n",
        "plt.boxplot(roc_auc_results, labels=[m[0] for m in models])\n",
        "plt.title('Comparación de Modelos - ROC AUC (Validación Cruzada)', fontsize=14)\n",
        "plt.ylabel('ROC AUC', fontsize=12)\n",
        "plt.grid(True, linestyle='--', alpha=0.7)\n",
        "plt.savefig('model_comparison_roc_auc.png')\n",
        "plt.close()"
      ],
      "metadata": {
        "id": "ZpEWdNhkUpMU"
      },
      "execution_count": 33,
      "outputs": []
    },
    {
      "cell_type": "code",
      "source": [
        "\n",
        "# Visualización de resultados de validación cruzada para F1-Score\n",
        "plt.figure(figsize=(12, 8))\n",
        "f1_results = [results[name]['f1'] for name in [m[0] for m in models]]\n",
        "plt.boxplot(f1_results, labels=[m[0] for m in models])\n",
        "plt.title('Comparación de Modelos - F1-Score (Validación Cruzada)', fontsize=14)\n",
        "plt.ylabel('F1-Score', fontsize=12)\n",
        "plt.grid(True, linestyle='--', alpha=0.7)\n",
        "plt.savefig('model_comparison_f1.png')\n",
        "plt.close()"
      ],
      "metadata": {
        "id": "0y1AOWhdUqm9"
      },
      "execution_count": 34,
      "outputs": []
    },
    {
      "cell_type": "markdown",
      "source": [
        "# 10. Ajuste de hiperparámetros para el mejor modelo"
      ],
      "metadata": {
        "id": "1oxPSZgCUsHU"
      }
    },
    {
      "cell_type": "code",
      "source": [
        "# Identificar el mejor modelo basado en ROC AUC medio\n",
        "best_model_index = np.argmax([np.mean(results[m[0]]['roc_auc']) for m in models])\n",
        "best_model_name = models[best_model_index][0]\n",
        "best_model_pipeline = models[best_model_index][1]\n",
        "\n",
        "print(f\"\\nEl mejor modelo es: {best_model_name}\")"
      ],
      "metadata": {
        "colab": {
          "base_uri": "https://localhost:8080/"
        },
        "id": "xBQ2EnKSUsTz",
        "outputId": "3a6763ce-e117-4edf-9bef-0b468cc68bc6"
      },
      "execution_count": 35,
      "outputs": [
        {
          "output_type": "stream",
          "name": "stdout",
          "text": [
            "\n",
            "El mejor modelo es: Gradient Boosting\n"
          ]
        }
      ]
    },
    {
      "cell_type": "code",
      "source": [
        "# Configurar grid search según el mejor modelo\n",
        "if best_model_name == 'Random Forest':\n",
        "    param_grid = {\n",
        "        'classifier__n_estimators': [100, 200],\n",
        "        'classifier__max_depth': [5, 10, None],\n",
        "        'classifier__min_samples_split': [2, 5, 10]\n",
        "    }\n",
        "elif best_model_name == 'Gradient Boosting':\n",
        "    param_grid = {\n",
        "        'classifier__n_estimators': [100, 200],\n",
        "        'classifier__learning_rate': [0.01, 0.1, 0.2],\n",
        "        'classifier__max_depth': [3, 5, 7]\n",
        "    }\n",
        "elif best_model_name == 'XGBoost':\n",
        "    param_grid = {\n",
        "        'classifier__n_estimators': [100, 200],\n",
        "        'classifier__learning_rate': [0.01, 0.1, 0.2],\n",
        "        'classifier__max_depth': [3, 5, 7],\n",
        "        'classifier__min_child_weight': [1, 3, 5]\n",
        "    }\n",
        "else:  # Regresión Logística\n",
        "    param_grid = {\n",
        "        'classifier__C': [0.01, 0.1, 1, 10],\n",
        "        'classifier__solver': ['liblinear', 'saga'],\n",
        "        'classifier__penalty': ['l1', 'l2']\n",
        "    }"
      ],
      "metadata": {
        "id": "JIKzWlfZU2f6"
      },
      "execution_count": 36,
      "outputs": []
    },
    {
      "cell_type": "code",
      "source": [
        "# Usar validación cruzada estratificada para mantener la proporción de clases\n",
        "grid_search = GridSearchCV(best_model_pipeline, param_grid=param_grid, cv=5, scoring='roc_auc', n_jobs=-1)\n",
        "grid_search.fit(X_train, y_train)\n",
        "\n",
        "print(f\"\\nMejores hiperparámetros para {best_model_name}: {grid_search.best_params_}\")\n",
        "print(f\"Mejor puntaje ROC AUC: {grid_search.best_score_:.4f}\")"
      ],
      "metadata": {
        "colab": {
          "base_uri": "https://localhost:8080/"
        },
        "id": "ZleMHFT_U52c",
        "outputId": "98daaa18-0f8c-48d0-facf-d4eeeec0f342"
      },
      "execution_count": 37,
      "outputs": [
        {
          "output_type": "stream",
          "name": "stdout",
          "text": [
            "\n",
            "Mejores hiperparámetros para Gradient Boosting: {'classifier__learning_rate': 0.1, 'classifier__max_depth': 3, 'classifier__n_estimators': 200}\n",
            "Mejor puntaje ROC AUC: 0.5129\n"
          ]
        }
      ]
    },
    {
      "cell_type": "markdown",
      "source": [
        "# 11. Evaluación del modelo final en conjunto de prueba\n"
      ],
      "metadata": {
        "id": "dEiMwCBYVv8q"
      }
    },
    {
      "cell_type": "code",
      "source": [
        "best_model = grid_search.best_estimator_\n",
        "y_pred = best_model.predict(X_test)\n",
        "y_prob = best_model.predict_proba(X_test)[:, 1]"
      ],
      "metadata": {
        "id": "EN5cbWD3Vt_a"
      },
      "execution_count": 38,
      "outputs": []
    },
    {
      "cell_type": "code",
      "source": [
        "# Matriz de confusión mejorada\n",
        "conf_matrix = confusion_matrix(y_test, y_pred)\n",
        "plt.figure(figsize=(10, 8))\n",
        "sns.heatmap(conf_matrix, annot=True, fmt='d', cmap='Blues',\n",
        "            xticklabels=['No Abandono', 'Abandono'],\n",
        "            yticklabels=['No Abandono', 'Abandono'])\n",
        "plt.xlabel('Predicción', fontsize=12)\n",
        "plt.ylabel('Real', fontsize=12)\n",
        "plt.title('Matriz de Confusión', fontsize=14, fontweight='bold')"
      ],
      "metadata": {
        "colab": {
          "base_uri": "https://localhost:8080/",
          "height": 741
        },
        "id": "GXwWuHHXV3lc",
        "outputId": "cd2c3a17-b804-4ac8-b04e-33ab0bd484b1"
      },
      "execution_count": 39,
      "outputs": [
        {
          "output_type": "execute_result",
          "data": {
            "text/plain": [
              "Text(0.5, 1.0, 'Matriz de Confusión')"
            ]
          },
          "metadata": {},
          "execution_count": 39
        },
        {
          "output_type": "display_data",
          "data": {
            "text/plain": [
              "<Figure size 1000x800 with 2 Axes>"
            ],
            "image/png": "[encoded data removed]"
          },
          "metadata": {}
        }
      ]
    },
    {
      "cell_type": "code",
      "source": [
        "# Añadir métricas adicionales en la visualización\n",
        "tn, fp, fn, tp = conf_matrix.ravel()\n",
        "total = tn + fp + fn + tp\n",
        "accuracy = (tn + tp) / total\n",
        "precision = tp / (tp + fp) if (tp + fp) > 0 else 0\n",
        "recall = tp / (tp + fn) if (tp + fn) > 0 else 0\n",
        "f1 = 2 * precision * recall / (precision + recall) if (precision + recall) > 0 else 0\n",
        "\n",
        "plt.figtext(0.02, 0.02, f\"Accuracy: {accuracy:.4f}\\nPrecision: {precision:.4f}\\nRecall: {recall:.4f}\\nF1-Score: {f1:.4f}\",\n",
        "           fontsize=12, bbox={\"facecolor\":\"white\", \"alpha\":0.8, \"pad\":5})\n",
        "plt.tight_layout()\n",
        "plt.savefig('confusion_matrix_detailed.png')\n",
        "plt.close()"
      ],
      "metadata": {
        "id": "vMkHv1F3V5ux"
      },
      "execution_count": 40,
      "outputs": []
    },
    {
      "cell_type": "code",
      "source": [
        "# Reporte de clasificación\n",
        "print(\"\\nReporte de Clasificación:\")\n",
        "print(classification_report(y_test, y_pred))"
      ],
      "metadata": {
        "colab": {
          "base_uri": "https://localhost:8080/"
        },
        "id": "IWabsvQyV8Of",
        "outputId": "ebc26073-c301-4208-e4f3-691518851286"
      },
      "execution_count": 41,
      "outputs": [
        {
          "output_type": "stream",
          "name": "stdout",
          "text": [
            "\n",
            "Reporte de Clasificación:\n",
            "              precision    recall  f1-score   support\n",
            "\n",
            "           0       0.80      1.00      0.89     59961\n",
            "           1       0.33      0.00      0.00     15039\n",
            "\n",
            "    accuracy                           0.80     75000\n",
            "   macro avg       0.57      0.50      0.44     75000\n",
            "weighted avg       0.71      0.80      0.71     75000\n",
            "\n"
          ]
        }
      ]
    },
    {
      "cell_type": "code",
      "source": [
        "# Curva ROC mejorada\n",
        "fpr, tpr, _ = roc_curve(y_test, y_prob)\n",
        "roc_auc = auc(fpr, tpr)\n",
        "\n",
        "plt.figure(figsize=(10, 8))\n",
        "plt.plot(fpr, tpr, color='darkorange', lw=2, label=f'Área bajo la curva ROC = {roc_auc:.4f}')\n",
        "plt.plot([0, 1], [0, 1], color='navy', lw=2, linestyle='--')\n",
        "plt.xlim([0.0, 1.0])\n",
        "plt.ylim([0.0, 1.05])\n",
        "plt.xlabel('Tasa de Falsos Positivos', fontsize=12)\n",
        "plt.ylabel('Tasa de Verdaderos Positivos', fontsize=12)\n",
        "plt.title('Curva ROC', fontsize=14, fontweight='bold')\n",
        "plt.legend(loc=\"lower right\", fontsize=12)\n",
        "plt.grid(True, linestyle='--', alpha=0.3)\n",
        "plt.tight_layout()\n",
        "plt.savefig('roc_curve_improved.png')\n",
        "plt.close()"
      ],
      "metadata": {
        "id": "5mhjBUf3V-Bj"
      },
      "execution_count": 42,
      "outputs": []
    },
    {
      "cell_type": "markdown",
      "source": [
        "# 12. Importancia de características"
      ],
      "metadata": {
        "id": "Pjsu8E91WIj8"
      }
    },
    {
      "cell_type": "code",
      "source": [
        "feature_importance_df = None\n",
        "try:\n",
        "    if hasattr(best_model['classifier'], 'feature_importances_'):\n",
        "        # Obtener nombres de características después del preprocesamiento\n",
        "        feature_names = best_model['preprocessor'].get_feature_names_out()\n",
        "\n",
        "        # Obtener importancia de características\n",
        "        importances = best_model['classifier'].feature_importances_\n",
        "\n",
        "        # Crear DataFrame para visualización\n",
        "        feature_importance_df = pd.DataFrame({\n",
        "            'Feature': feature_names,\n",
        "            'Importance': importances\n",
        "        }).sort_values('Importance', ascending=False)\n",
        "\n",
        "        # Visualizar las 15 características más importantes (o menos si hay menos)\n",
        "        top_n = min(15, len(feature_importance_df))\n",
        "        plt.figure(figsize=(12, 8))\n",
        "        ax = sns.barplot(x='Importance', y='Feature', data=feature_importance_df.head(top_n), palette='viridis')\n",
        "        plt.title('Top 15 Características Más Importantes', fontsize=14, fontweight='bold')\n",
        "        plt.xlabel('Importancia Relativa', fontsize=12)\n",
        "        plt.ylabel('Característica', fontsize=12)\n",
        "        plt.tight_layout()\n",
        "        plt.savefig('feature_importance_improved.png')\n",
        "        plt.close()\n",
        "\n",
        "        print(\"\\nCaracterísticas más importantes:\")\n",
        "        print(feature_importance_df.head(top_n))\n",
        "    elif best_model_name == 'Regresión Logística':\n",
        "        # Para regresión logística obtenemos los coeficientes\n",
        "        feature_names = best_model['preprocessor'].get_feature_names_out()\n",
        "        coefficients = best_model['classifier'].coef_[0]\n",
        "\n",
        "        feature_importance_df = pd.DataFrame({\n",
        "            'Feature': feature_names,\n",
        "            'Coefficient': coefficients\n",
        "        }).sort_values('Coefficient', key=abs, ascending=False)\n",
        "\n",
        "        top_n = min(15, len(feature_importance_df))\n",
        "        plt.figure(figsize=(12, 8))\n",
        "        palette = sns.diverging_palette(230, 20, as_cmap=True)\n",
        "        sns.barplot(x='Coefficient', y='Feature', data=feature_importance_df.head(top_n),\n",
        "                   palette=feature_importance_df.head(top_n)['Coefficient'].map(lambda x: 'red' if x < 0 else 'green'))\n",
        "        plt.title('Top 15 Coeficientes de Regresión Logística', fontsize=14, fontweight='bold')\n",
        "        plt.xlabel('Valor del Coeficiente', fontsize=12)\n",
        "        plt.ylabel('Característica', fontsize=12)\n",
        "        plt.axvline(x=0, color='gray', linestyle='--')\n",
        "        plt.tight_layout()\n",
        "        plt.savefig('feature_coefficients_improved.png')\n",
        "        plt.close()\n",
        "\n",
        "        print(\"\\nCaracterísticas más importantes (por coeficientes):\")\n",
        "        print(feature_importance_df.head(top_n))\n",
        "except Exception as e:\n",
        "    print(f\"Error al obtener importancia de características: {e}\")\n"
      ],
      "metadata": {
        "colab": {
          "base_uri": "https://localhost:8080/"
        },
        "id": "LjHaK_a5WIvK",
        "outputId": "be38717a-3bd4-4104-9805-2c51ce17e3fd"
      },
      "execution_count": 43,
      "outputs": [
        {
          "output_type": "stream",
          "name": "stdout",
          "text": [
            "\n",
            "Características más importantes:\n",
            "                                    Feature  Importance\n",
            "2                num__Total Purchase Amount    0.376396\n",
            "0                        num__Product Price    0.193086\n",
            "5                                  num__Age    0.115341\n",
            "3                         num__Customer Age    0.086133\n",
            "8                            remainder__Day    0.077514\n",
            "1                             num__Quantity    0.034759\n",
            "7                          remainder__Month    0.033972\n",
            "14                   remainder__Gender_Male    0.019584\n",
            "10  remainder__Product Category_Electronics    0.012348\n",
            "12    remainder__Payment Method_Credit Card    0.011917\n",
            "6                           remainder__Year    0.010993\n",
            "13         remainder__Payment Method_PayPal    0.008872\n",
            "4                              num__Returns    0.007938\n",
            "9      remainder__Product Category_Clothing    0.007001\n",
            "11         remainder__Product Category_Home    0.004147\n"
          ]
        }
      ]
    },
    {
      "cell_type": "markdown",
      "source": [
        "# 13. Análisis de clientes con alta probabilidad de abandono"
      ],
      "metadata": {
        "id": "jhIa3hDLWV87"
      }
    },
    {
      "cell_type": "code",
      "source": [
        "high_risk_threshold = 0.7\n",
        "high_risk_indices = np.where(y_prob >= high_risk_threshold)[0]\n",
        "high_risk_customers = X_test.iloc[high_risk_indices].copy()\n",
        "high_risk_customers['churn_probability'] = y_prob[high_risk_indices]\n",
        "\n",
        "print(f\"\\nNúmero de clientes con alta probabilidad de abandono (>={high_risk_threshold}): {len(high_risk_customers)}\")"
      ],
      "metadata": {
        "colab": {
          "base_uri": "https://localhost:8080/"
        },
        "id": "tWNmlB3iWWDL",
        "outputId": "0dfcdc46-60a2-490f-f59a-203a632ed382"
      },
      "execution_count": 44,
      "outputs": [
        {
          "output_type": "stream",
          "name": "stdout",
          "text": [
            "\n",
            "Número de clientes con alta probabilidad de abandono (>=0.7): 0\n"
          ]
        }
      ]
    },
    {
      "cell_type": "code",
      "source": [
        "if len(high_risk_customers) > 0:\n",
        "    print(\"\\nPerfil de clientes con alto riesgo de abandono:\")\n",
        "    print(high_risk_customers.describe())\n",
        "\n",
        "    # Visualización del perfil de alto riesgo para las principales características\n",
        "    if feature_importance_df is not None:\n",
        "        top_risk_features = feature_importance_df['Feature'].head(5).tolist()\n",
        "        original_feature_names = [name.split('__')[-1] for name in top_risk_features]\n",
        "\n",
        "        # Encontrar las columnas originales que mejor coinciden con estas características\n",
        "        matched_features = []\n",
        "        for orig_feat in original_feature_names:\n",
        "            matches = [col for col in X_test.columns if orig_feat in col]\n",
        "            if matches:\n",
        "                matched_features.extend(matches)\n",
        "\n",
        "        matched_features = list(set(matched_features))[:5]  # Eliminar duplicados y limitar a 5\n",
        "\n",
        "        if matched_features:\n",
        "            plt.figure(figsize=(15, 10))\n",
        "            for i, feature in enumerate(matched_features):\n",
        "                if feature in high_risk_customers.columns:\n",
        "                    plt.subplot(2, 3, i+1)\n",
        "                    if high_risk_customers[feature].dtype in [np.int64, np.float64]:\n",
        "                        sns.histplot(high_risk_customers[feature], color='red', kde=True)\n",
        "                        plt.axvline(X_test[feature].mean(), color='blue', linestyle='--',\n",
        "                                   label=f'Media General: {X_test[feature].mean():.2f}')\n",
        "                        plt.legend()\n",
        "                    else:\n",
        "                        sns.countplot(y=high_risk_customers[feature])\n",
        "                    plt.title(f'Distribución de {feature}\\nen Clientes de Alto Riesgo', fontsize=11)\n",
        "            plt.tight_layout()\n",
        "            plt.savefig('high_risk_profile.png')\n",
        "            plt.close()"
      ],
      "metadata": {
        "id": "zVF_KbTLWfSu"
      },
      "execution_count": 45,
      "outputs": []
    },
    {
      "cell_type": "markdown",
      "source": [
        "# 14. Guardar el modelo para su posterior uso"
      ],
      "metadata": {
        "id": "uljTplAbWliQ"
      }
    },
    {
      "cell_type": "code",
      "source": [
        "import joblib\n",
        "joblib.dump(best_model, 'ecommerce_churn_predictor.pkl')\n",
        "print(\"\\nModelo guardado como 'ecommerce_churn_predictor.pkl'\")"
      ],
      "metadata": {
        "colab": {
          "base_uri": "https://localhost:8080/"
        },
        "id": "lrnJKweuWkn4",
        "outputId": "97eb5dd9-ad71-4859-c654-c8269c1c77eb"
      },
      "execution_count": 46,
      "outputs": [
        {
          "output_type": "stream",
          "name": "stdout",
          "text": [
            "\n",
            "Modelo guardado como 'ecommerce_churn_predictor.pkl'\n"
          ]
        }
      ]
    },
    {
      "cell_type": "markdown",
      "source": [
        "Aquí tienes un análisis detallado de los resultados obtenidos en la evaluación de los modelos para predecir el abandono en e-commerce.  \n",
        "\n",
        "---\n",
        "\n",
        "### **1. Análisis de la Matriz de Confusión**\n",
        "La matriz de confusión muestra un **sesgo fuerte del modelo hacia la clase mayoritaria (No Abandono)**. Se observan los siguientes valores:  \n",
        "\n",
        "- **Verdaderos Negativos (TN):** 59,959 → Clientes que no abandonaron y fueron correctamente clasificados.  \n",
        "- **Falsos Positivos (FP):** 2 → Clientes que no abandonaron, pero fueron mal clasificados como abandono.  \n",
        "- **Falsos Negativos (FN):** 15,038 → Clientes que realmente abandonaron, pero el modelo los clasificó como que no abandonaron.  \n",
        "- **Verdaderos Positivos (TP):** 1 → Clientes que abandonaron y fueron correctamente clasificados.  \n",
        "\n",
        "El modelo prácticamente **no detecta los clientes que abandonan** (solo 1 caso positivo detectado correctamente). Esto es un gran problema porque, en la práctica, el objetivo principal es identificar correctamente estos casos para implementar estrategias de retención.\n",
        "\n",
        "---\n",
        "\n",
        "### **2. Evaluación de los Modelos**\n",
        "\n",
        "Se evaluaron cuatro modelos de machine learning: **Regresión Logística, Random Forest, Gradient Boosting y XGBoost**. A continuación, se analizan sus métricas de desempeño:\n",
        "\n",
        "#### **Regresión Logística**  \n",
        "- **Accuracy:** 50.19%  \n",
        "- **Precision:** 20.20%  \n",
        "- **Recall:** 50.30%  \n",
        "- **F1-score:** 28.82%  \n",
        "- **ROC AUC:** 50.05%  \n",
        "\n",
        "El modelo de regresión logística tiene un **recall relativamente alto** en comparación con los otros modelos, lo que significa que **detecta mejor los abandonos**. Sin embargo, su precisión es baja, lo que indica un alto número de falsos positivos. Además, su accuracy del 50.19% y ROC AUC cercano a 50% indican que su capacidad predictiva es casi aleatoria.\n",
        "\n",
        "#### **Random Forest**  \n",
        "- **Accuracy:** 79.93%  \n",
        "- **Precision:** 12.22%  \n",
        "- **Recall:** 0.01%  \n",
        "- **F1-score:** 0.02%  \n",
        "- **ROC AUC:** 50.34%  \n",
        "\n",
        "Aunque el accuracy de **79.93%** puede parecer alto, el recall es prácticamente **nulo** (0.01%), lo que significa que el modelo no está detectando los abandonos. El alto accuracy se debe a que la mayoría de los datos pertenecen a la clase \"No Abandono\", y el modelo simplemente clasifica casi todos los casos en esta categoría.  \n",
        "\n",
        "#### **Gradient Boosting (Modelo Seleccionado)**  \n",
        "- **Accuracy:** 79.95%  \n",
        "- **Precision:** 20.00%  \n",
        "- **Recall:** 0.01%  \n",
        "- **F1-score:** 0.01%  \n",
        "- **ROC AUC:** 51.15%  \n",
        "\n",
        "Gradient Boosting fue seleccionado como el mejor modelo basado en el ROC AUC, que es **ligeramente superior a los otros modelos (51.15%)**. Sin embargo, **su recall es prácticamente nulo (0.01%)**, lo que significa que **no detecta correctamente a los clientes que abandonan**. Esto lo hace poco útil para este caso de uso, donde el recall es fundamental.\n",
        "\n",
        "#### **XGBoost**  \n",
        "- **Accuracy:** 55.59%  \n",
        "- **Precision:** 20.40%  \n",
        "- **Recall:** 41.85%  \n",
        "- **F1-score:** 27.43%  \n",
        "- **ROC AUC:** 50.62%  \n",
        "\n",
        "XGBoost tiene un recall más alto que los demás modelos (41.85%), lo que indica que **es mejor identificando clientes que abandonan en comparación con Gradient Boosting y Random Forest**. Sin embargo, su accuracy es más bajo (55.59%), lo que sugiere que sacrifica precisión para mejorar la detección de la clase minoritaria.\n",
        "\n",
        "---\n",
        "\n",
        "### **3. Importancia de Características**  \n",
        "\n",
        "Las variables más importantes en el modelo seleccionado (Gradient Boosting) son:  \n",
        "\n",
        "1. **Total Purchase Amount (37.64%)** → El monto total de compras es el factor más determinante en la predicción.  \n",
        "2. **Product Price (19.31%)** → El precio del producto influye significativamente en la probabilidad de abandono.  \n",
        "3. **Edad del Cliente (11.53%)** → La edad del cliente también juega un papel en la decisión de compra.  \n",
        "4. **Customer Age (8.61%)** → Relacionado con la edad, este factor sugiere que clientes más jóvenes pueden tener mayor probabilidad de abandonar el carrito.  \n",
        "5. **Día de la Semana (7.75%)** → Es posible que ciertos días haya más abandono debido a patrones de compra específicos.  \n",
        "\n",
        "Esto indica que el **precio y el monto total de compra** son los factores más relevantes para predecir el abandono. Si una empresa desea reducir la tasa de abandono, debería considerar estrategias como descuentos en ciertos productos o incentivos para completar la compra.\n",
        "\n",
        "---\n",
        "\n",
        "### **4. Número de Clientes con Alta Probabilidad de Abandono**\n",
        "El modelo predice **0 clientes con una probabilidad de abandono mayor o igual a 70%**. Esto refuerza el problema del **bajo recall**, ya que ni siquiera identifica clientes en riesgo alto de abandono.\n",
        "\n",
        "---\n",
        "\n",
        "### **5. Conclusión**\n",
        "\n",
        "#### **¿Es Gradient Boosting realmente el mejor modelo?**  \n",
        "Aunque Gradient Boosting fue seleccionado por su mejor ROC AUC, tiene **un recall extremadamente bajo (0.01%)**, lo que lo hace poco útil para detectar clientes que abandonan el carrito.  \n",
        "\n",
        "El modelo que **mejor detecta abandonos** es **XGBoost** con un recall del 41.85%. Sin embargo, su precisión es baja, lo que significa que genera muchos falsos positivos.  \n",
        "\n",
        "### **6. Conclusión Final**\n",
        "El modelo seleccionado **no es efectivo en la detección de clientes que abandonan**, ya que su recall es prácticamente nulo. Si el objetivo principal es identificar y reducir el abandono, se recomienda **optimizar XGBoost o probar nuevas estrategias** como balanceo de clases y ajuste de umbral para mejorar la detección de la clase minoritaria."
      ],
      "metadata": {
        "id": "JKNJVd2SWuH6"
      }
    }
  ],
  "metadata": {
    "kaggle": {
      "accelerator": "none",
      "dataSources": [
        {
          "datasetId": 3733600,
          "sourceId": 6476628,
          "sourceType": "datasetVersion"
        }
      ],
      "dockerImageVersionId": 30918,
      "isGpuEnabled": false,
      "isInternetEnabled": false,
      "language": "python",
      "sourceType": "notebook"
    },
    "kernelspec": {
      "display_name": "Python 3",
      "name": "python3"
    },
    "language_info": {
      "codemirror_mode": {
        "name": "ipython",
        "version": 3
      },
      "file_extension": ".py",
      "mimetype": "text/x-python",
      "name": "python",
      "nbconvert_exporter": "python",
      "pygments_lexer": "ipython3",
      "version": "3.10.12"
    },
    "colab": {
      "provenance": [],
      "gpuType": "T4",
      "include_colab_link": true
    },
    "accelerator": "GPU"
  },
  "nbformat": 4,
  "nbformat_minor": 0
}